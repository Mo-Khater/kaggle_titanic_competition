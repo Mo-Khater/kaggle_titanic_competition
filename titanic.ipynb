{
 "cells": [
  {
   "cell_type": "code",
   "execution_count": 1,
   "id": "f055e8d8",
   "metadata": {},
   "outputs": [],
   "source": [
    "import pandas as pd\n",
    "from sklearn.model_selection import train_test_split\n",
    "from sklearn.preprocessing import LabelEncoder\n",
    "from sklearn.ensemble import RandomForestClassifier\n",
    "from sklearn.tree import DecisionTreeClassifier\n",
    "from sklearn.svm import SVC\n",
    "from sklearn.linear_model import LogisticRegression\n",
    "from xgboost import XGBClassifier\n",
    "from sklearn.metrics import accuracy_score\n",
    "from sklearn.model_selection import GridSearchCV\n",
    "from sklearn.ensemble import VotingClassifier"
   ]
  },
  {
   "cell_type": "code",
   "execution_count": 2,
   "id": "b8b0eb8d",
   "metadata": {},
   "outputs": [],
   "source": [
    "def load_data():\n",
    "    df=pd.read_csv('data/train.csv')\n",
    "    return df"
   ]
  },
  {
   "cell_type": "markdown",
   "id": "a0afd07b",
   "metadata": {},
   "source": [
    "Preprocessing\n"
   ]
  },
  {
   "cell_type": "code",
   "execution_count": 51,
   "id": "aeb74c0f",
   "metadata": {},
   "outputs": [],
   "source": [
    "from sklearn.preprocessing import LabelEncoder\n",
    "import pandas as pd\n",
    "\n",
    "class TitanicPreprocessor:\n",
    "    def __init__(self):\n",
    "        self.label_encoder = LabelEncoder()\n",
    "        self.age_mean = None\n",
    "        self.embarked_mode = None\n",
    "        self.embarked_columns = None\n",
    "        self.title_columns = None\n",
    "\n",
    "    def fit(self, df):\n",
    "        self.age_mean = df['Age'].mean()\n",
    "        self.embarked_mode = df['Embarked'].mode()[0]\n",
    "        self.label_encoder.fit(df['Sex'])\n",
    "        \n",
    "        # Needed to ensure consistent dummy columns later\n",
    "        temp = df.copy()\n",
    "        temp['Embarked'] = temp['Embarked'].fillna(self.embarked_mode)\n",
    "        temp_dummies = pd.get_dummies(temp['Embarked'], drop_first=True, dtype='int')\n",
    "        temp2_dummies = pd.get_dummies(temp['Title'], drop_first=True, dtype='int')\n",
    "        self.embarked_columns = temp_dummies.columns.tolist()\n",
    "        self.title_columns = temp2_dummies.columns.tolist()\n",
    "\n",
    "    def transform(self, df):\n",
    "        df = df.copy()\n",
    "        df['Sex'] = self.label_encoder.transform(df['Sex'])\n",
    "\n",
    "        df['Age'] = df['Age'].fillna(self.age_mean)\n",
    "        df['Embarked'] = df['Embarked'].fillna(self.embarked_mode)\n",
    "        embarked_dummies = pd.get_dummies(df['Embarked'], drop_first=True, dtype='int')\n",
    "        titles_dummies = pd.get_dummies(df['Title'], drop_first=True, dtype='int')\n",
    "\n",
    "        # Add missing dummy columns (if any), fill with 0\n",
    "        for col in self.embarked_columns:\n",
    "            if col not in embarked_dummies:\n",
    "                embarked_dummies[col] = 0\n",
    "        for col in self.title_columns:\n",
    "            if col not in titles_dummies:\n",
    "                titles_dummies[col] = 0\n",
    "        embarked_dummies = embarked_dummies[self.embarked_columns]  # same column order\n",
    "        df = df.drop('Embarked', axis=1)\n",
    "        df = df.drop('Title', axis=1)  # Drop 'Title' if it exists\n",
    "        df = pd.concat([df, embarked_dummies,titles_dummies], axis=1)\n",
    "\n",
    "        return df\n"
   ]
  },
  {
   "cell_type": "code",
   "execution_count": 10,
   "id": "39bbd365",
   "metadata": {},
   "outputs": [],
   "source": [
    "def model_train(X_train, y_train):\n",
    "    rf = RandomForestClassifier(n_estimators=100, random_state=42,max_depth=10,min_samples_split=5,)\n",
    "    rf.fit(X_train, y_train)\n",
    "    return rf"
   ]
  },
  {
   "cell_type": "code",
   "execution_count": 11,
   "id": "07c584af",
   "metadata": {},
   "outputs": [],
   "source": [
    "def model_tuning(X_train, y_train):\n",
    "    param_grid = {\n",
    "        'n_estimators': [50, 100, 200],\n",
    "        'max_depth': [None, 10, 20, 30],\n",
    "        'min_samples_split': [2, 5, 10]\n",
    "    }\n",
    "    rf = RandomForestClassifier(random_state=42)\n",
    "    grid_search = GridSearchCV(estimator=rf, param_grid=param_grid, cv=3, n_jobs=-1, verbose=2)\n",
    "    grid_search.fit(X_train, y_train)\n",
    "    print(f\"Best parameters: {grid_search.best_params_}\")\n",
    "    print(f\"Best cross-validation score: {grid_search.best_score_:.4f}\")\n",
    "    return grid_search.best_estimator_"
   ]
  },
  {
   "cell_type": "code",
   "execution_count": 12,
   "id": "4becdee4",
   "metadata": {},
   "outputs": [],
   "source": [
    "def model_prediction(X_test,model):\n",
    "    preds = model.predict(X_test)\n",
    "    return preds"
   ]
  },
  {
   "cell_type": "code",
   "execution_count": 13,
   "id": "91c1ee00",
   "metadata": {},
   "outputs": [],
   "source": [
    "def split_data(X, y):\n",
    "    X_train, X_test, y_train, y_test = train_test_split(X, y, test_size=0.2, random_state=42)\n",
    "    return X_train, X_test, y_train, y_test"
   ]
  },
  {
   "cell_type": "code",
   "execution_count": 18,
   "id": "8b939bee",
   "metadata": {},
   "outputs": [],
   "source": [
    "def model_evaluate(model, X_test, y_test):\n",
    "    accuracy = model.score(X_test, y_test)\n",
    "    print(f'Model Accuracy: {accuracy:.2f}')"
   ]
  },
  {
   "cell_type": "code",
   "execution_count": 41,
   "id": "69037447",
   "metadata": {},
   "outputs": [],
   "source": [
    "def extract_title(df):\n",
    "    df = df.copy()\n",
    "    # Extract title using regex\n",
    "    df['Title'] = df['Name'].str.extract(r',\\s*([^\\.]*)\\s*\\.', expand=False)\n",
    "\n",
    "    # Normalize rare or similar titles\n",
    "    df['Title'] = df['Title'].replace([\n",
    "        'Lady', 'Countess', 'Capt', 'Col', 'Don', 'Dr', 'Major', 'Rev', \n",
    "        'Sir', 'Jonkheer', 'Dona'\n",
    "    ], 'Rare')\n",
    "\n",
    "    df['Title'] = df['Title'].replace({\n",
    "        'Mlle': 'Miss',\n",
    "        'Ms': 'Miss',\n",
    "        'Mme': 'Mrs'\n",
    "    })\n",
    "\n",
    "    return df"
   ]
  },
  {
   "cell_type": "code",
   "execution_count": null,
   "id": "2ce882c5",
   "metadata": {},
   "outputs": [
    {
     "name": "stdout",
     "output_type": "stream",
     "text": [
      "Model Accuracy: 0.83\n"
     ]
    }
   ],
   "source": [
    "preprocessor= TitanicPreprocessor()\n",
    "df=load_data()\n",
    "X= df.drop('Survived', axis=1)\n",
    "y = df['Survived']\n",
    "X= extract_title(X)  # Extract titles from names\n",
    "cols_to_drop = ['PassengerId', 'Name', 'Ticket', 'Cabin']\n",
    "X = X.drop(cols_to_drop, axis=1)\n",
    "x_train, x_test, y_train, y_test = split_data(X,y)\n",
    "preprocessor.fit(x_train)\n",
    "x_train = preprocessor.transform(x_train)\n",
    "x_test = preprocessor.transform(x_test)\n",
    "model = model_train(x_train, y_train)\n",
    "test_data= pd.read_csv('data/test.csv')\n",
    "passenger_ids = test_data['PassengerId']\n",
    "test_data= test_data.drop(cols_to_drop, axis=1)\n",
    "processed_test_data = preprocessor.transform(test_data)\n",
    "preds = model_prediction(processed_test_data, model)\n",
    "submission = pd.DataFrame({'PassengerId': passenger_ids, 'Survived': preds})\n",
    "submission.to_csv('data/submission.csv', index=False)\n",
    "model_evaluate(model, x_test, y_test)"
   ]
  },
  {
   "cell_type": "markdown",
   "id": "856d6986",
   "metadata": {},
   "source": [
    "stacking"
   ]
  },
  {
   "cell_type": "code",
   "execution_count": 43,
   "id": "14a0a369",
   "metadata": {},
   "outputs": [],
   "source": [
    "from sklearn.ensemble import GradientBoostingClassifier, StackingClassifier\n",
    "from sklearn.neighbors import KNeighborsClassifier\n",
    "\n",
    "\n",
    "def ensemble_model(X_train, y_train):\n",
    "    base_learners = [\n",
    "        ('rf', RandomForestClassifier(n_estimators=100, random_state=42,max_depth=10,min_samples_split=5,)),\n",
    "        ('gb', GradientBoostingClassifier(n_estimators=100, random_state=42)),\n",
    "        ('knn', KNeighborsClassifier(n_neighbors=5)),\n",
    "    ]\n",
    "    meta_model = LogisticRegression()\n",
    "    stacked_model = StackingClassifier(\n",
    "        estimators=base_learners,\n",
    "        final_estimator=meta_model,\n",
    "        cv=5,              # internal CV for stacking\n",
    "        passthrough=False  \n",
    "    )\n",
    "    stacked_model.fit(X_train, y_train)\n",
    "    return stacked_model\n"
   ]
  },
  {
   "cell_type": "code",
   "execution_count": 52,
   "id": "54779d31",
   "metadata": {},
   "outputs": [
    {
     "name": "stdout",
     "output_type": "stream",
     "text": [
      "Index(['PassengerId', 'Pclass', 'Name', 'Sex', 'Age', 'SibSp', 'Parch',\n",
      "       'Ticket', 'Fare', 'Cabin', 'Embarked'],\n",
      "      dtype='object')\n",
      "Model Accuracy: 0.84\n"
     ]
    }
   ],
   "source": [
    "preprocessor= TitanicPreprocessor()\n",
    "df=load_data()\n",
    "X= df.drop('Survived', axis=1)\n",
    "print(X.columns)\n",
    "y = df['Survived']\n",
    "X= extract_title(X)  # Extract titles from names\n",
    "cols_to_drop = ['PassengerId', 'Name', 'Ticket', 'Cabin']\n",
    "X = X.drop(cols_to_drop, axis=1)\n",
    "x_train, x_val, y_train, y_val = split_data(X,y)\n",
    "preprocessor.fit(x_train)\n",
    "x_train = preprocessor.transform(x_train)\n",
    "x_val = preprocessor.transform(x_val)\n",
    "model = ensemble_model(x_train, y_train)\n",
    "test_data= pd.read_csv('data/test.csv')\n",
    "test_data = extract_title(test_data)  # Extract titles from names in test data\n",
    "test_data = test_data.dropna(subset=['Fare'])  # Ensure 'Fare' is not NaN\n",
    "passenger_ids = test_data['PassengerId']\n",
    "test_data= test_data.drop(cols_to_drop, axis=1)\n",
    "processed_test_data = preprocessor.transform(test_data)\n",
    "preds = model_prediction(processed_test_data, model)\n",
    "submission = pd.DataFrame({'PassengerId': passenger_ids, 'Survived': preds})\n",
    "submission.to_csv('data/submission.csv', index=False)\n",
    "model_evaluate(model, x_val, y_val)"
   ]
  },
  {
   "cell_type": "code",
   "execution_count": null,
   "id": "3a20a25d",
   "metadata": {},
   "outputs": [],
   "source": []
  }
 ],
 "metadata": {
  "kernelspec": {
   "display_name": "Python 3",
   "language": "python",
   "name": "python3"
  },
  "language_info": {
   "codemirror_mode": {
    "name": "ipython",
    "version": 3
   },
   "file_extension": ".py",
   "mimetype": "text/x-python",
   "name": "python",
   "nbconvert_exporter": "python",
   "pygments_lexer": "ipython3",
   "version": "3.13.2"
  }
 },
 "nbformat": 4,
 "nbformat_minor": 5
}
